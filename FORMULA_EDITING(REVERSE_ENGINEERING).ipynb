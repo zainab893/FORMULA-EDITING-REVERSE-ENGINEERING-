{
  "nbformat": 4,
  "nbformat_minor": 0,
  "metadata": {
    "colab": {
      "provenance": []
    },
    "kernelspec": {
      "name": "python3",
      "display_name": "Python 3"
    },
    "language_info": {
      "name": "python"
    }
  },
  "cells": [
    {
      "cell_type": "code",
      "execution_count": 27,
      "metadata": {
        "id": "vYwPrUuNuJBO"
      },
      "outputs": [],
      "source": [
        "# SYEDA ZAINAB FATIMA\n",
        "# W25-PAK-INP-AI-01"
      ]
    },
    {
      "cell_type": "code",
      "source": [
        "# FORMULA EDITING(REVERSE ENGINEERING)"
      ],
      "metadata": {
        "id": "Y_KHYiHuuWpZ"
      },
      "execution_count": 28,
      "outputs": []
    },
    {
      "cell_type": "code",
      "source": [
        "# NEWTON'S SECOND LAW"
      ],
      "metadata": {
        "id": "YMUyK63auWsE"
      },
      "execution_count": 31,
      "outputs": []
    },
    {
      "cell_type": "code",
      "source": [
        "m = 10\n",
        "a = 20\n",
        "f = m*a\n",
        "print(f)"
      ],
      "metadata": {
        "colab": {
          "base_uri": "https://localhost:8080/"
        },
        "id": "kg8Y0AfpuW0C",
        "outputId": "12c7eaa9-307b-48f3-b507-c5bc4515edb5"
      },
      "execution_count": 32,
      "outputs": [
        {
          "output_type": "stream",
          "name": "stdout",
          "text": [
            "200\n"
          ]
        }
      ]
    },
    {
      "cell_type": "code",
      "source": [
        "# f = m*a\n",
        "f = 50\n",
        "\n",
        "m = f/a\n",
        "print(m)"
      ],
      "metadata": {
        "colab": {
          "base_uri": "https://localhost:8080/"
        },
        "id": "kUVFQruWuW2c",
        "outputId": "cced0e8d-14c2-482d-d630-f3117bdf9110"
      },
      "execution_count": 33,
      "outputs": [
        {
          "output_type": "stream",
          "name": "stdout",
          "text": [
            "2.5\n"
          ]
        }
      ]
    },
    {
      "cell_type": "code",
      "source": [
        "# f = m*a\n",
        "f = 50\n",
        "m = 20\n",
        "a = f/m\n",
        "print(a)\n"
      ],
      "metadata": {
        "colab": {
          "base_uri": "https://localhost:8080/"
        },
        "id": "4NiVPH4ZuW45",
        "outputId": "69169360-2d1b-41fc-eff0-3d62cf43f709"
      },
      "execution_count": 14,
      "outputs": [
        {
          "output_type": "stream",
          "name": "stdout",
          "text": [
            "2.5\n"
          ]
        }
      ]
    },
    {
      "cell_type": "code",
      "source": [
        "# constant mass\n",
        "m = 10\n",
        "v1 = 3\n",
        "v0 = 2\n",
        "t1 = 5\n",
        "t0 = 2\n",
        "f = m*(v1-v0/t1-t0)\n",
        "print(f)"
      ],
      "metadata": {
        "colab": {
          "base_uri": "https://localhost:8080/"
        },
        "id": "5XywRU-5uW7h",
        "outputId": "fb147f7b-56da-4528-d625-f0ac19f82bbf"
      },
      "execution_count": 16,
      "outputs": [
        {
          "output_type": "stream",
          "name": "stdout",
          "text": [
            "6.000000000000001\n"
          ]
        }
      ]
    },
    {
      "cell_type": "code",
      "source": [
        "# constant mass\n",
        "v1 = 3\n",
        "v0 = 2\n",
        "t1 = 5\n",
        "t0 = 2\n",
        "f = 20\n",
        "m = f/(v1-v0/t1-t0)\n",
        "print(m)"
      ],
      "metadata": {
        "colab": {
          "base_uri": "https://localhost:8080/"
        },
        "id": "7oNHR9TL0G9B",
        "outputId": "2e8dce0a-dc53-49e2-c8ca-eee54761df98"
      },
      "execution_count": 17,
      "outputs": [
        {
          "output_type": "stream",
          "name": "stdout",
          "text": [
            "33.33333333333333\n"
          ]
        }
      ]
    },
    {
      "cell_type": "code",
      "source": [
        "v1 = 3\n",
        "v0 = 5\n",
        "t1 = 3\n",
        "t0 = 2\n",
        "m = 10\n",
        "f = 15\n",
        "# m*v1 - m*v0 = f*t1 -f*t0\n",
        "# m*v1 = f*t1 -f*t0 + m*v0\n",
        "v1 = (f*t1 -f*t0 + m*v0)/m\n",
        "print(v1)"
      ],
      "metadata": {
        "colab": {
          "base_uri": "https://localhost:8080/"
        },
        "id": "D5cNxXRX2csI",
        "outputId": "5e1d155e-6e3f-49f9-efd2-3d851993ae7f"
      },
      "execution_count": 24,
      "outputs": [
        {
          "output_type": "stream",
          "name": "stdout",
          "text": [
            "6.5\n"
          ]
        }
      ]
    },
    {
      "cell_type": "code",
      "source": [
        "v1 = 3\n",
        "t1 = 3\n",
        "t0 = 8\n",
        "m = 15\n",
        "f = 15\n",
        "# m*v1 - m*v0 = f*t1 -f*t0\n",
        "# m*v0 = m*v1 - f*t1 -f*t0\n",
        "v0 = (f*t1 -f*t0 + m*v0)/m\n",
        "print(v0)"
      ],
      "metadata": {
        "colab": {
          "base_uri": "https://localhost:8080/"
        },
        "id": "RloHQSI_3eqY",
        "outputId": "4b8025e7-d18b-4ca9-aa54-08d10176d3c5"
      },
      "execution_count": 26,
      "outputs": [
        {
          "output_type": "stream",
          "name": "stdout",
          "text": [
            "1.5\n"
          ]
        }
      ]
    },
    {
      "cell_type": "code",
      "source": [
        "# different mass\n",
        "v1 = 3\n",
        "v0 = 2\n",
        "t1 = 5\n",
        "t0 = 2\n",
        "m1 = 5\n",
        "m0 = 6\n",
        "f = (m1*v1 - m0*v0) /(t1-t0)\n",
        "print(f)\n"
      ],
      "metadata": {
        "colab": {
          "base_uri": "https://localhost:8080/"
        },
        "id": "oEJu54qy0aPB",
        "outputId": "9848b1bc-5d9d-423b-9584-df13d38f37aa"
      },
      "execution_count": 20,
      "outputs": [
        {
          "output_type": "stream",
          "name": "stdout",
          "text": [
            "1.0\n"
          ]
        }
      ]
    },
    {
      "cell_type": "code",
      "source": [
        "# f = (m1*v1 - m0*v0) /(t1-t0)\n",
        "# ft1-fto = (m1*v1 - m0*v0)\n",
        "# ft1 = (m1*v1 - m0*v0) + ft0\n",
        "v1 = 3\n",
        "v0 = 5\n",
        "t0 = 7\n",
        "m1 = 5\n",
        "f = 10\n",
        "m0 = 6\n",
        "t1 = ((m1*v1 - m0*v0) + f*t0)/ f\n",
        "print(t1)"
      ],
      "metadata": {
        "colab": {
          "base_uri": "https://localhost:8080/"
        },
        "id": "LMeJl0Aa0aSv",
        "outputId": "c23eee3a-6fcc-496c-f41f-01df41ecda30"
      },
      "execution_count": 22,
      "outputs": [
        {
          "output_type": "stream",
          "name": "stdout",
          "text": [
            "5.5\n"
          ]
        }
      ]
    },
    {
      "cell_type": "code",
      "source": [
        "# f = (m1*v1 - m0*v0) /(t1-t0)\n",
        "# ft1-fto = (m1*v1 - m0*v0)\n",
        "# ft0 = ft1 - (m1*v1 - m0*v0)\n",
        "v1 = 4\n",
        "v0 = 5\n",
        "t1 = 5\n",
        "m1 = 15\n",
        "f = 10\n",
        "m0 = 6\n",
        "t0 = ((m1*v1 - m0*v0) + f*t1)/ f\n",
        "print(t1)"
      ],
      "metadata": {
        "colab": {
          "base_uri": "https://localhost:8080/"
        },
        "id": "dvQ2Q5C7uW99",
        "outputId": "87635f6c-c126-4c99-b66a-ff52161655fd"
      },
      "execution_count": 23,
      "outputs": [
        {
          "output_type": "stream",
          "name": "stdout",
          "text": [
            "5\n"
          ]
        }
      ]
    },
    {
      "cell_type": "code",
      "source": [],
      "metadata": {
        "id": "d_nXpOXk2W9k"
      },
      "execution_count": null,
      "outputs": []
    },
    {
      "cell_type": "code",
      "source": [],
      "metadata": {
        "id": "hU5MYtvl2XHa"
      },
      "execution_count": null,
      "outputs": []
    }
  ]
}